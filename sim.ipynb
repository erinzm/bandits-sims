{
 "cells": [
  {
   "cell_type": "code",
   "execution_count": 1,
   "metadata": {},
   "outputs": [],
   "source": [
    "using CSV, DataFrames\n",
    "using PyPlot\n",
    "using Distributions\n",
    "using ProgressMeter"
   ]
  },
  {
   "cell_type": "markdown",
   "metadata": {},
   "source": [
    "# Ingest data"
   ]
  },
  {
   "cell_type": "code",
   "execution_count": 2,
   "metadata": {},
   "outputs": [],
   "source": [
    "data = CSV.read(\"/home/liam/Work/caption-contest-data/contests/summaries/558_summary_LilUCB.csv\")\n",
    "# # make sure the data is sorted by caption rank\n",
    "sort!(data, :rank);"
   ]
  },
  {
   "cell_type": "code",
   "execution_count": 3,
   "metadata": {},
   "outputs": [],
   "source": [
    "\"Returns a list of categorical distributions, one per arm.\"\n",
    "function contest_arm_distributions(contest_data)\n",
    "    n_captions = size(data, 1)\n",
    "    probs = hcat([data[:,6+j]./data[:,6] for j in 1:3]...)\n",
    "    \n",
    "    distributions = [Categorical(probs[i,:]) for i in 1:n_captions]\n",
    "end\n",
    "\n",
    "distributions = contest_arm_distributions(data);"
   ]
  },
  {
   "cell_type": "markdown",
   "metadata": {},
   "source": [
    "# Models\n",
    "## KL-UCB"
   ]
  },
  {
   "cell_type": "code",
   "execution_count": 4,
   "metadata": {},
   "outputs": [
    {
     "data": {
      "text/plain": [
       "precision_of (generic function with 1 method)"
      ]
     },
     "execution_count": 4,
     "metadata": {},
     "output_type": "execute_result"
    }
   ],
   "source": [
    "const Arm = Int\n",
    "const Reward = Int\n",
    "\n",
    "type KlucbState\n",
    "    N :: Int\n",
    "    δ :: Float64\n",
    "    xsum :: Array{Int,1}\n",
    "    x2sum :: Array{Int,1}\n",
    "    T :: Array{Int,1}\n",
    "    μ :: Array{Float64,1}\n",
    "    UCB :: Array{Float64,1}\n",
    "\n",
    "    function KlucbState(N::Int, δ::Float64)\n",
    "        new(N, δ,\n",
    "            zeros(N), zeros(N), zeros(N),\n",
    "            [Inf for _=1:N], [Inf for _=1:N])\n",
    "    end\n",
    "end\n",
    "\n",
    "function getQuery(state::KlucbState)::Arm\n",
    "    findmax(state.UCB)[2]\n",
    "end\n",
    "\n",
    "function processAnswer!(state::KlucbState, arm::Arm, reward::Reward)\n",
    "    state.xsum[arm] += reward\n",
    "    state.x2sum[arm] += reward^2\n",
    "    state.T[arm] += 1\n",
    "\n",
    "    state.μ[arm] = state.xsum[arm] / state.T[arm]\n",
    "    state.UCB[arm] = computeUCB((state.μ[arm]-1)/2,\n",
    "        log(2*state.T[arm].^2/state.δ)/state.T[arm])\n",
    "end\n",
    "\n",
    "function computeUCB(μ_hat, threshold, accuracy=(1e-6))\n",
    "    lower = μ_hat\n",
    "    upper = 1\n",
    "    ucb = (lower+upper)/2\n",
    "    while (upper-lower) > accuracy\n",
    "        lower, upper, ucb = leftright(μ_hat, lower, upper, threshold)\n",
    "    end\n",
    "\n",
    "    return ucb\n",
    "end\n",
    "\n",
    "function leftright(μ_hat, lower, upper, threshold)\n",
    "    if μ_hat*(1-μ_hat) != 0\n",
    "        shit = (upper+lower)/2\n",
    "        kl = μ_hat*log(μ_hat/shit) + (1-μ_hat)*log((1-μ_hat)/(1-shit))\n",
    "        if kl >= threshold\n",
    "            return lower, shit, (shit+lower)/2\n",
    "        else\n",
    "            return shit, upper, (shit+upper)/2\n",
    "        end\n",
    "    end\n",
    "\n",
    "    if μ_hat == 0\n",
    "        shit = (upper+lower)/2\n",
    "        kl = (1-μ_hat)*log((1-μ_hat)/(1-shit))\n",
    "        if kl >= threshold\n",
    "            return lower, shit, (shit+lower)/2\n",
    "        else\n",
    "            return shit, upper, (shit+upper)/2\n",
    "        end\n",
    "    end\n",
    "\n",
    "    if μ_hat == 1\n",
    "        return 1, 1, 1\n",
    "    end\n",
    "end\n",
    "\n",
    "function precision_of(model; set=:)\n",
    "    sqrt.(max.(1., model.x2sum[set] - model.T[set] .* model.μ[set].^2) ./ (model.T[set] - 1) ./ model.T[set])\n",
    "end"
   ]
  },
  {
   "cell_type": "code",
   "execution_count": 8,
   "metadata": {},
   "outputs": [
    {
     "name": "stderr",
     "output_type": "stream",
     "text": [
      "\u001b[32mProgress: 100%|█████████████████████████████████████████| Time: 0:00:09\u001b[39m\n"
     ]
    }
   ],
   "source": [
    "N = size(data,1)\n",
    "# T = N*40\n",
    "T = 524297\n",
    "model = KlucbState(N, .5)\n",
    "samples = []\n",
    "@showprogress for t in 1:T\n",
    "    arm = getQuery(model)\n",
    "    reward = rand(distributions[arm])\n",
    "    processAnswer!(model, arm, reward)\n",
    "    push!(samples, precision_of(model, set=1:10))\n",
    "end"
   ]
  },
  {
   "cell_type": "code",
   "execution_count": 9,
   "metadata": {},
   "outputs": [
    {
     "data": {
      "image/png": "[encoded data removed]",
      "text/plain": [
       "PyPlot.Figure(PyObject <Figure size 640x480 with 1 Axes>)"
      ]
     },
     "metadata": {},
     "output_type": "display_data"
    }
   ],
   "source": [
    "plot(samples); show()"
   ]
  },
  {
   "cell_type": "code",
   "execution_count": 37,
   "metadata": {},
   "outputs": [
    {
     "data": {
      "text/plain": [
       "KlucbState(3925, 0.5, [11243, 3488, 2684, 1531, 2538, 2716, 3201, 2177, 1863, 1786  …  12, 12, 12, 12, 12, 12, 12, 12, 12, 12], [24143, 7232, 5546, 3139, 5298, 5646, 6735, 4539, 3907, 3740  …  12, 12, 12, 12, 12, 12, 12, 12, 12, 12], [6313, 2018, 1566, 913, 1484, 1584, 1857, 1280, 1102, 1058  …  12, 12, 12, 12, 12, 12, 12, 12, 12, 12], [1.78093, 1.72844, 1.71392, 1.67689, 1.71024, 1.71465, 1.72375, 1.70078, 1.69056, 1.68809  …  1.0, 1.0, 1.0, 1.0, 1.0, 1.0, 1.0, 1.0, 1.0, 1.0], [0.428582, 0.427194, 0.427269, 0.427118, 0.427081, 0.427285, 0.427167, 0.427096, 0.42709, 0.427305  …  0.411204, 0.411204, 0.411204, 0.411204, 0.411204, 0.411204, 0.411204, 0.411204, 0.411204, 0.411204])"
      ]
     },
     "execution_count": 37,
     "metadata": {},
     "output_type": "execute_result"
    }
   ],
   "source": [
    "model"
   ]
  },
  {
   "cell_type": "code",
   "execution_count": 42,
   "metadata": {},
   "outputs": [
    {
     "data": {
      "text/plain": [
       "524297.0"
      ]
     },
     "execution_count": 42,
     "metadata": {},
     "output_type": "execute_result"
    }
   ],
   "source": [
    "sum(data[:count])"
   ]
  },
  {
   "cell_type": "code",
   "execution_count": 12,
   "metadata": {},
   "outputs": [
    {
     "data": {
      "text/plain": [
       "3925-element Array{Union{Float64, Missings.Missing},1}:\n",
       " 0.0247975\n",
       " 0.0260765\n",
       " 0.0283605\n",
       " 0.0275904\n",
       " 0.0287641\n",
       " 0.0289608\n",
       " 0.0299758\n",
       " 0.0299378\n",
       " 0.0312654\n",
       " 0.0321183\n",
       " 0.0321716\n",
       " 0.0315459\n",
       " 0.0307333\n",
       " ⋮        \n",
       " 0.0124226\n",
       " 0.0124226\n",
       " 0.0124226\n",
       " 0.0124226\n",
       " 0.0124226\n",
       " 0.0124226\n",
       " 0.0124226\n",
       " 0.0124226\n",
       " 0.0124226\n",
       " 0.0124226\n",
       " 0.0124226\n",
       " 0.0124226"
      ]
     },
     "execution_count": 12,
     "metadata": {},
     "output_type": "execute_result"
    }
   ],
   "source": [
    "data[:precision]"
   ]
  },
  {
   "cell_type": "code",
   "execution_count": 10,
   "metadata": {},
   "outputs": [
    {
     "data": {
      "text/plain": [
       "3925-element Array{Float64,1}:\n",
       " 0.00161452\n",
       " 0.00465459\n",
       " 0.00658696\n",
       " 0.0103667 \n",
       " 0.00807538\n",
       " 0.0248954 \n",
       " 0.0120997 \n",
       " 0.0109338 \n",
       " 0.0127089 \n",
       " 0.019992  \n",
       " 0.0123393 \n",
       " 0.0156686 \n",
       " 0.0136277 \n",
       " ⋮         \n",
       " 0.0741249 \n",
       " 0.0741249 \n",
       " 0.0741249 \n",
       " 0.0741249 \n",
       " 0.0741249 \n",
       " 0.0741249 \n",
       " 0.0741249 \n",
       " 0.0741249 \n",
       " 0.0741249 \n",
       " 0.0741249 \n",
       " 0.0741249 \n",
       " 0.0741249 "
      ]
     },
     "execution_count": 10,
     "metadata": {},
     "output_type": "execute_result"
    }
   ],
   "source": [
    "precision_of(model)"
   ]
  },
  {
   "cell_type": "code",
   "execution_count": null,
   "metadata": {},
   "outputs": [],
   "source": []
  }
 ],
 "metadata": {
  "kernelspec": {
   "display_name": "Julia 0.6.2",
   "language": "julia",
   "name": "julia-0.6"
  },
  "language_info": {
   "file_extension": ".jl",
   "mimetype": "application/julia",
   "name": "julia",
   "version": "0.6.2"
  }
 },
 "nbformat": 4,
 "nbformat_minor": 2
}
